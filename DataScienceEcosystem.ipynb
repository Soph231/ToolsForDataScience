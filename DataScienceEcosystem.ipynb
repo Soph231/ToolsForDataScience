{
 "cells": [
  {
   "cell_type": "markdown",
   "id": "70ddf08d-db88-426a-aea9-22261775fded",
   "metadata": {},
   "source": [
    "# Data Science Tools and Ecosystem"
   ]
  },
  {
   "cell_type": "markdown",
   "id": "92d4ada3-8e3e-412c-954c-ac2e0ed1ee64",
   "metadata": {},
   "source": [
    "In this notebook, Data Science Tools and Ecosystem are summarized."
   ]
  },
  {
   "cell_type": "markdown",
   "id": "80c47267-6526-417b-870d-f36fbd5901d8",
   "metadata": {},
   "source": [
    "***Objectives***\n",
    "- List popular languages for Data Science\n",
    "- List open source development environments\n",
    "- List popular languages for Data Science"
   ]
  },
  {
   "cell_type": "markdown",
   "id": "c16d570f-90ff-4176-8b95-a38e613e63ce",
   "metadata": {},
   "source": [
    "Some of the popular languages that Data scientists use are:\n",
    "1. Python\n",
    "2. R\n",
    "3. SQL\n",
    "4. Java\n",
    "5. Julia\n",
    "6. Scala\n",
    "7. C++"
   ]
  },
  {
   "cell_type": "markdown",
   "id": "5d39f9d8-9d2b-462b-99e3-0f455e98e6ab",
   "metadata": {},
   "source": [
    "Some of the commonly used libraries used by Data Scientists include:\n",
    "1. Pandas\n",
    "2. NumPy\n",
    "3. Matplotlib\n",
    "4. SciPy\n",
    "5. ggplot2"
   ]
  },
  {
   "cell_type": "markdown",
   "id": "62064224-e504-44a1-acff-c3d49a2ed594",
   "metadata": {},
   "source": [
    "| Data Science Tools |\n",
    "| -----|\n",
    "| Jupyter Notebooks |\n",
    "| GitHub |\n",
    "|R Studio |"
   ]
  },
  {
   "cell_type": "markdown",
   "id": "cd38b441-c328-4fc3-b551-b71024c94149",
   "metadata": {},
   "source": [
    "### Below are a few examples of evaluating arithmetic expression in Python."
   ]
  },
  {
   "cell_type": "code",
   "execution_count": 1,
   "id": "3492bd00-e576-4221-87c0-762366bc65b2",
   "metadata": {
    "tags": []
   },
   "outputs": [
    {
     "data": {
      "text/plain": [
       "17"
      ]
     },
     "execution_count": 1,
     "metadata": {},
     "output_type": "execute_result"
    }
   ],
   "source": [
    "# This is a simple arithmetic expression to multipy then add integers.\n",
    "(3*4)+5"
   ]
  },
  {
   "cell_type": "code",
   "execution_count": 2,
   "id": "4dd8312d-f9b7-4cc5-a536-c0f4429875cb",
   "metadata": {
    "tags": []
   },
   "outputs": [
    {
     "data": {
      "text/plain": [
       "3.3333333333333335"
      ]
     },
     "execution_count": 2,
     "metadata": {},
     "output_type": "execute_result"
    }
   ],
   "source": [
    "# This will convert 200 minutes to hours by dividing by 60.\n",
    "200/60"
   ]
  },
  {
   "cell_type": "markdown",
   "id": "d1493609-c269-4ac9-b637-f4762eb102cc",
   "metadata": {},
   "source": [
    "## Author\n",
    "Sophia Brauning"
   ]
  },
  {
   "cell_type": "code",
   "execution_count": null,
   "id": "d4b3ddef-a383-4cae-be38-037cf15ebb1a",
   "metadata": {},
   "outputs": [],
   "source": []
  }
 ],
 "metadata": {
  "kernelspec": {
   "display_name": "Python",
   "language": "python",
   "name": "conda-env-python-py"
  },
  "language_info": {
   "codemirror_mode": {
    "name": "ipython",
    "version": 3
   },
   "file_extension": ".py",
   "mimetype": "text/x-python",
   "name": "python",
   "nbconvert_exporter": "python",
   "pygments_lexer": "ipython3",
   "version": "3.7.12"
  }
 },
 "nbformat": 4,
 "nbformat_minor": 5
}
